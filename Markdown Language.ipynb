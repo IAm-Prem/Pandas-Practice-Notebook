{
 "cells": [
  {
   "cell_type": "markdown",
   "id": "90c0bd53",
   "metadata": {},
   "source": [
    "# Markdown\n",
    "\n",
    "In next few lines we will learn how to write the Markdown code."
   ]
  },
  {
   "cell_type": "markdown",
   "id": "c15ec2ad",
   "metadata": {},
   "source": [
    "# Heading 1\n",
    "## Heading 2\n",
    "### Heading 3\n",
    "#### Heading 4\n",
    "##### Heading 5"
   ]
  },
  {
   "cell_type": "markdown",
   "id": "c10881d5",
   "metadata": {},
   "source": [
    "## Italic text"
   ]
  },
  {
   "cell_type": "markdown",
   "id": "675c0128",
   "metadata": {},
   "source": [
    "*This is italic* code."
   ]
  },
  {
   "cell_type": "markdown",
   "id": "c07ca0a8",
   "metadata": {},
   "source": [
    "### Strong text."
   ]
  },
  {
   "cell_type": "markdown",
   "id": "b00937a5",
   "metadata": {},
   "source": [
    "**This is strong** text."
   ]
  },
  {
   "cell_type": "markdown",
   "id": "8409a279",
   "metadata": {},
   "source": [
    "## Strikethrough"
   ]
  },
  {
   "cell_type": "markdown",
   "id": "95ecd085",
   "metadata": {},
   "source": [
    "~~This is strikethrough~~ text."
   ]
  },
  {
   "cell_type": "markdown",
   "id": "d45f4a9e",
   "metadata": {},
   "source": [
    "## Horizontal line"
   ]
  },
  {
   "cell_type": "markdown",
   "id": "dcadf4e0",
   "metadata": {},
   "source": [
    "____"
   ]
  },
  {
   "cell_type": "markdown",
   "id": "bd5020d2",
   "metadata": {},
   "source": [
    "## Blockquote"
   ]
  },
  {
   "cell_type": "markdown",
   "id": "dbe15822",
   "metadata": {},
   "source": [
    "> This is a blockquote."
   ]
  },
  {
   "cell_type": "markdown",
   "id": "f10cf16c",
   "metadata": {},
   "source": [
    "## Links"
   ]
  },
  {
   "cell_type": "markdown",
   "id": "825cdb59",
   "metadata": {},
   "source": [
    "[JobDiva Tool](https://www.jobdiva.com/ \"JobDiva\")"
   ]
  },
  {
   "cell_type": "markdown",
   "id": "f1ed5d80",
   "metadata": {},
   "source": [
    "## Unordered List"
   ]
  },
  {
   "cell_type": "markdown",
   "id": "4fb318f5",
   "metadata": {},
   "source": [
    "* item 1\n",
    "* item 2\n",
    "* item 3\n",
    "    * nested item 1\n",
    "    * nested item 2"
   ]
  },
  {
   "cell_type": "markdown",
   "id": "01db4c46",
   "metadata": {},
   "source": [
    "## Ordered List"
   ]
  },
  {
   "cell_type": "markdown",
   "id": "b3153136",
   "metadata": {},
   "source": [
    "1. item 1\n",
    "1. item 2\n",
    "1. item 3"
   ]
  },
  {
   "cell_type": "markdown",
   "id": "4e5101b0",
   "metadata": {},
   "source": [
    "## Inline code blocks"
   ]
  },
  {
   "cell_type": "markdown",
   "id": "8bc0bcab",
   "metadata": {},
   "source": [
    "`This is a paragraph which can be written by using backtikcs at the beginning and end of the paragraph in Markdown language.`"
   ]
  },
  {
   "cell_type": "markdown",
   "id": "365c645f",
   "metadata": {},
   "source": [
    "## Images"
   ]
  },
  {
   "cell_type": "code",
   "execution_count": 1,
   "id": "e182f767",
   "metadata": {},
   "outputs": [],
   "source": [
    "import matplotlib.pyplot as plt"
   ]
  },
  {
   "cell_type": "markdown",
   "id": "15b82eec",
   "metadata": {},
   "source": [
    "![Logo](6-step-ml-framework.png)"
   ]
  },
  {
   "cell_type": "markdown",
   "id": "873092db",
   "metadata": {},
   "source": []
  },
  {
   "cell_type": "markdown",
   "id": "960d4132",
   "metadata": {},
   "source": [
    "## Github Markdown"
   ]
  },
  {
   "cell_type": "markdown",
   "id": "916b1013",
   "metadata": {},
   "source": [
    "```\n",
    "install matplotlib.pyplot as plt\n",
    "install pandas as pd\n",
    "install numpy as np\n",
    "```"
   ]
  }
 ],
 "metadata": {
  "kernelspec": {
   "display_name": "Python 3",
   "language": "python",
   "name": "python3"
  },
  "language_info": {
   "codemirror_mode": {
    "name": "ipython",
    "version": 3
   },
   "file_extension": ".py",
   "mimetype": "text/x-python",
   "name": "python",
   "nbconvert_exporter": "python",
   "pygments_lexer": "ipython3",
   "version": "3.9.4"
  }
 },
 "nbformat": 4,
 "nbformat_minor": 5
}
